{
 "cells": [
  {
   "cell_type": "code",
   "execution_count": 3,
   "metadata": {},
   "outputs": [
    {
     "name": "stdout",
     "output_type": "stream",
     "text": [
      "8\n",
      "12\n",
      "The program has stop\n"
     ]
    }
   ],
   "source": [
    "# create a calculator program using functions, loops, if and else\n",
    "\n",
    "def calculate(number1,number2,operator):\n",
    "    if operator == \"+\":\n",
    "        print (number1 + number2)\n",
    "    elif operator == \"-\":\n",
    "        print (number1 - number2)\n",
    "    elif operator == \"*\":\n",
    "        print (number1 * number2)\n",
    "    elif operator == \"/\":\n",
    "        print (number1 / number2)\n",
    "    elif operator == \"**\":\n",
    "        print (number1 ** number2)\n",
    "    else:\n",
    "        print (\"invalid\")\n",
    "\n",
    "condition = \"yes\"\n",
    "while condition == \"yes\":\n",
    "    number1= eval(input (\"input your first number:\"))\n",
    "    number2= eval(input (\"your second number:\"))\n",
    "    operator= input (\"input your operator:\")\n",
    "    calculate (number1,number2,operator)\n",
    "\n",
    "    condition = input(\"Do you want to run the program again (yes/no)?\")\n",
    "\n",
    "else: \n",
    "    print (\"The program has stop\")"
   ]
  }
 ],
 "metadata": {
  "kernelspec": {
   "display_name": "Python 3.10.6 64-bit",
   "language": "python",
   "name": "python3"
  },
  "language_info": {
   "codemirror_mode": {
    "name": "ipython",
    "version": 3
   },
   "file_extension": ".py",
   "mimetype": "text/x-python",
   "name": "python",
   "nbconvert_exporter": "python",
   "pygments_lexer": "ipython3",
   "version": "3.10.6"
  },
  "orig_nbformat": 4,
  "vscode": {
   "interpreter": {
    "hash": "27f6fea6f47ae512550f0b8facdbd035a93e1dd89633f7bf2dd00a2502c71d0d"
   }
  }
 },
 "nbformat": 4,
 "nbformat_minor": 2
}
